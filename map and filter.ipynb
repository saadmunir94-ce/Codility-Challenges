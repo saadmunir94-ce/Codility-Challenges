{
 "cells": [
  {
   "cell_type": "code",
   "execution_count": 6,
   "id": "inside-story",
   "metadata": {},
   "outputs": [],
   "source": [
    "def is_even(no):\n",
    "    modes = [1, 0]\n",
    "    return modes[no % 2]"
   ]
  },
  {
   "cell_type": "code",
   "execution_count": 7,
   "id": "logical-parameter",
   "metadata": {},
   "outputs": [
    {
     "data": {
      "text/plain": [
       "0"
      ]
     },
     "execution_count": 7,
     "metadata": {},
     "output_type": "execute_result"
    }
   ],
   "source": [
    "is_even(7)"
   ]
  },
  {
   "cell_type": "code",
   "execution_count": 9,
   "id": "operational-impression",
   "metadata": {},
   "outputs": [
    {
     "data": {
      "text/plain": [
       "[2, 4, 6]"
      ]
     },
     "execution_count": 9,
     "metadata": {},
     "output_type": "execute_result"
    }
   ],
   "source": [
    "numbers = [1, 2, 3, 4, 5, 6, 7]\n",
    "list(filter(is_even, numbers))"
   ]
  },
  {
   "cell_type": "code",
   "execution_count": 10,
   "id": "caroline-password",
   "metadata": {},
   "outputs": [],
   "source": [
    "def square_number(n):\n",
    "    return n*n\n"
   ]
  },
  {
   "cell_type": "code",
   "execution_count": 12,
   "id": "outside-market",
   "metadata": {},
   "outputs": [],
   "source": [
    "out = list(map(square_number, numbers))"
   ]
  },
  {
   "cell_type": "code",
   "execution_count": 13,
   "id": "figured-debut",
   "metadata": {},
   "outputs": [
    {
     "data": {
      "text/plain": [
       "[1, 4, 9, 16, 25, 36, 49]"
      ]
     },
     "execution_count": 13,
     "metadata": {},
     "output_type": "execute_result"
    }
   ],
   "source": [
    "out"
   ]
  },
  {
   "cell_type": "code",
   "execution_count": 14,
   "id": "circular-affiliation",
   "metadata": {},
   "outputs": [
    {
     "data": {
      "text/plain": [
       "[49, 36, 25, 16, 9, 4, 1]"
      ]
     },
     "execution_count": 14,
     "metadata": {},
     "output_type": "execute_result"
    }
   ],
   "source": [
    "out[::-1]"
   ]
  },
  {
   "cell_type": "code",
   "execution_count": 17,
   "id": "promotional-mother",
   "metadata": {},
   "outputs": [
    {
     "name": "stdout",
     "output_type": "stream",
     "text": [
      "49\n",
      "36\n",
      "25\n",
      "16\n",
      "9\n",
      "4\n"
     ]
    }
   ],
   "source": [
    "for i in range(-1,-len(out),-1):\n",
    "    print(out[i])"
   ]
  },
  {
   "cell_type": "code",
   "execution_count": 20,
   "id": "derived-sentence",
   "metadata": {},
   "outputs": [
    {
     "name": "stdout",
     "output_type": "stream",
     "text": [
      "49\n",
      "36\n",
      "25\n",
      "16\n",
      "9\n",
      "4\n",
      "1\n"
     ]
    }
   ],
   "source": [
    "for i in reversed(out):\n",
    "    print(i)"
   ]
  },
  {
   "cell_type": "code",
   "execution_count": 22,
   "id": "local-harrison",
   "metadata": {},
   "outputs": [
    {
     "name": "stdout",
     "output_type": "stream",
     "text": [
      "6\n",
      "5\n",
      "4\n",
      "3\n",
      "2\n",
      "1\n",
      "0\n"
     ]
    }
   ],
   "source": [
    "for i  in range(len(out) - 1, -1, -1):\n",
    "    print(i)"
   ]
  },
  {
   "cell_type": "code",
   "execution_count": null,
   "id": "facial-chrome",
   "metadata": {},
   "outputs": [],
   "source": []
  }
 ],
 "metadata": {
  "kernelspec": {
   "display_name": "Python 3",
   "language": "python",
   "name": "python3"
  },
  "language_info": {
   "codemirror_mode": {
    "name": "ipython",
    "version": 3
   },
   "file_extension": ".py",
   "mimetype": "text/x-python",
   "name": "python",
   "nbconvert_exporter": "python",
   "pygments_lexer": "ipython3",
   "version": "3.7.7"
  }
 },
 "nbformat": 4,
 "nbformat_minor": 5
}
