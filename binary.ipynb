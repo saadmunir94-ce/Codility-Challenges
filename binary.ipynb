{
 "cells": [
  {
   "cell_type": "markdown",
   "id": "important-underground",
   "metadata": {},
   "source": [
    "# Convert number into  binary\n"
   ]
  },
  {
   "cell_type": "code",
   "execution_count": 5,
   "id": "human-framework",
   "metadata": {},
   "outputs": [
    {
     "name": "stdout",
     "output_type": "stream",
     "text": [
      "1\n",
      "2\n"
     ]
    }
   ],
   "source": [
    "gap_cnt = 1\n",
    "print(gap_cnt)\n",
    "number = 4\n",
    "remainder = number % 2 # remainder either 0 or 1\n",
    "gap_cnt += 1 if remainder == 0 else gap_cnt\n",
    "print(gap_cnt)"
   ]
  },
  {
   "cell_type": "code",
   "execution_count": 23,
   "id": "purple-secondary",
   "metadata": {},
   "outputs": [
    {
     "name": "stdout",
     "output_type": "stream",
     "text": [
      "Please enter number: 4\n",
      "4\n",
      "Binary representation  of 4: 100\n",
      "2\n"
     ]
    }
   ],
   "source": [
    "binary = 0\n",
    "count = 0\n",
    "\n",
    "number = int(input(\"Please enter number: \"))\n",
    "orig_no = number\n",
    "print(number)\n",
    "prev_remainder = None\n",
    "gap_list = []\n",
    "gap_cnt = 0\n",
    "while (number > 0):\n",
    "    remainder = number % 2 # remainder either 0 or 1\n",
    "    #print(\"Remainder : \", remainder)\n",
    "    if remainder == 0:\n",
    "        gap_cnt += 1\n",
    "    #print(\"Gapcnt: \", gap_cnt)\n",
    "    number = number // 2 # quotient\n",
    "    binary += remainder * 10**count # update binary representation\n",
    "    count += 1\n",
    "    if count > 1:\n",
    "        if prev_remainder == 0 and remainder == 1:\n",
    "            gap_list.append(gap_cnt)\n",
    "            gap_cnt = 0\n",
    "            \n",
    "    prev_remainder = remainder\n",
    "print(\"Binary representation  of {}: {}\".format(orig_no, binary))\n",
    "if len(gap_list) > 0:\n",
    "    print(max(gap_list))\n",
    "else:\n",
    "    print(0)\n",
    "\n"
   ]
  },
  {
   "cell_type": "code",
   "execution_count": 36,
   "id": "black-oxygen",
   "metadata": {},
   "outputs": [
    {
     "name": "stdout",
     "output_type": "stream",
     "text": [
      "Please enter number: 1041\n",
      "1041\n",
      "Binary representation  of 1041: 10000010001\n",
      "[3, 5]\n",
      "5\n"
     ]
    }
   ],
   "source": [
    "binary = 0\n",
    "count = 0\n",
    "\n",
    "number = int(input(\"Please enter number: \"))\n",
    "orig_no = number\n",
    "print(number)\n",
    "prev_remainder = None\n",
    "gap_list = []\n",
    "gap_cnt = 0\n",
    "is_gap = False\n",
    "while (number > 0):\n",
    "    remainder = number % 2 # remainder either 0 or 1\n",
    "    number = number // 2 # quotient\n",
    "    binary += remainder * 10**count # update binary representation\n",
    "    count += 1\n",
    "    if prev_remainder == 1 and remainder == 0:\n",
    "        is_gap = True\n",
    "    elif is_gap and prev_remainder == 0 and remainder == 1:\n",
    "        is_gap = False\n",
    "        gap_list.append(gap_cnt)\n",
    "        gap_cnt = 0      \n",
    "            \n",
    "    if is_gap:\n",
    "        gap_cnt += 1\n",
    "    prev_remainder = remainder\n",
    "print(\"Binary representation  of {}: {}\".format(orig_no, binary))\n",
    "print(gap_list)\n",
    "if len(gap_list) > 0:\n",
    "    print(max(gap_list))\n",
    "else:\n",
    "    print(0)\n",
    "\n"
   ]
  },
  {
   "cell_type": "code",
   "execution_count": null,
   "id": "vertical-calculator",
   "metadata": {},
   "outputs": [],
   "source": []
  }
 ],
 "metadata": {
  "kernelspec": {
   "display_name": "Python 3",
   "language": "python",
   "name": "python3"
  },
  "language_info": {
   "codemirror_mode": {
    "name": "ipython",
    "version": 3
   },
   "file_extension": ".py",
   "mimetype": "text/x-python",
   "name": "python",
   "nbconvert_exporter": "python",
   "pygments_lexer": "ipython3",
   "version": "3.7.7"
  }
 },
 "nbformat": 4,
 "nbformat_minor": 5
}
